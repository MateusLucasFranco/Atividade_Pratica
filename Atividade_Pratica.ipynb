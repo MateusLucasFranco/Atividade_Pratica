{
  "nbformat": 4,
  "nbformat_minor": 0,
  "metadata": {
    "colab": {
      "provenance": []
    },
    "kernelspec": {
      "name": "python3",
      "display_name": "Python 3"
    },
    "language_info": {
      "name": "python"
    }
  },
  "cells": [
    {
      "cell_type": "markdown",
      "source": [
        "\n",
        "Mateus Lucas Franco - 202010520\n",
        "\n",
        "Gustavo Lima Carvalho - 202010404\n",
        "\n",
        "1. Crie uma função em python que seja capaz de utilizar a API do Yahoo finance para baixar os dados históricos diários das ações da Petrobras (código PETR4)\n",
        "e salvar esses dados como um arquivo .csv"
      ],
      "metadata": {
        "id": "Rh2h9OM_LZIM"
      }
    },
    {
      "cell_type": "code",
      "execution_count": 2,
      "metadata": {
        "colab": {
          "base_uri": "https://localhost:8080/"
        },
        "id": "T4ZATpXpLYPa",
        "outputId": "7bc706d8-be62-46b4-d0ab-ed73d85e01c0"
      },
      "outputs": [
        {
          "output_type": "stream",
          "name": "stdout",
          "text": [
            "Dados históricos salvos em PETR4.SA_historico.csv\n"
          ]
        }
      ],
      "source": [
        "import yfinance as yf\n",
        "import pandas as pd\n",
        "\n",
        "def baixar_dados_historicos(codigo):\n",
        "    # Baixar dados históricos da ação\n",
        "    acao = yf.Ticker(codigo)\n",
        "    dados = acao.history(period=\"max\")\n",
        "\n",
        "    # Salvar dados em um arquivo CSV\n",
        "    nome_arquivo = f\"{codigo}_historico.csv\"\n",
        "    dados.to_csv(nome_arquivo)\n",
        "\n",
        "    print(f\"Dados históricos salvos em {nome_arquivo}\")\n",
        "\n",
        "# Exemplo de uso da função\n",
        "codigo_acao = \"PETR4.SA\"  # Código da ação da Petrobras na B3\n",
        "baixar_dados_historicos(codigo_acao)\n"
      ]
    },
    {
      "cell_type": "markdown",
      "source": [
        "2. Crie uma função em python que receba um nome de arquivo .csv, carregue o conteúdo do arquivo e retorne um dataframe contendo o valor do arquivo. A partir dessa função, carregue o conteúdo do arquivo .csv da questão 1 (acima) e imprima o conteúdo das últimas 10 linhas."
      ],
      "metadata": {
        "id": "ToLkodMjMgEw"
      }
    },
    {
      "cell_type": "code",
      "source": [
        "import pandas as pd\n",
        "\n",
        "def carregar_csv(nome_arquivo):\n",
        "    # Carregar conteúdo do arquivo CSV em um DataFrame\n",
        "    dataframe = pd.read_csv(nome_arquivo)\n",
        "\n",
        "    return dataframe\n",
        "\n",
        "# Exemplo de uso da função\n",
        "nome_arquivo = \"PETR4.SA_historico.csv\"  # Nome do arquivo CSV\n",
        "dados_dataframe = carregar_csv(nome_arquivo)\n",
        "\n",
        "# Imprimir as últimas 10 linhas do DataFrame\n",
        "ultimas_10_linhas = dados_dataframe.tail(10)\n",
        "print(ultimas_10_linhas)\n"
      ],
      "metadata": {
        "colab": {
          "base_uri": "https://localhost:8080/"
        },
        "id": "AHrHf2C3Mj7q",
        "outputId": "9b07787c-c334-4699-9f4a-84707684e9c8"
      },
      "execution_count": 3,
      "outputs": [
        {
          "output_type": "stream",
          "name": "stdout",
          "text": [
            "                           Date       Open       High        Low      Close  \\\n",
            "5863  2023-05-08 00:00:00-03:00  24.450001  24.629999  24.209999  24.510000   \n",
            "5864  2023-05-09 00:00:00-03:00  24.410000  24.799999  24.240000  24.590000   \n",
            "5865  2023-05-10 00:00:00-03:00  24.590000  24.820000  24.330000  24.530001   \n",
            "5866  2023-05-11 00:00:00-03:00  24.129999  25.480000  23.930000  25.430000   \n",
            "5867  2023-05-12 00:00:00-03:00  25.580000  26.740000  25.480000  26.250000   \n",
            "5868  2023-05-15 00:00:00-03:00  26.059999  26.150000  25.400000  25.660000   \n",
            "5869  2023-05-16 00:00:00-03:00  26.110001  27.030001  26.080000  26.299999   \n",
            "5870  2023-05-17 00:00:00-03:00  26.600000  26.760000  25.510000  25.660000   \n",
            "5871  2023-05-18 00:00:00-03:00  25.590000  25.850000  25.350000  25.809999   \n",
            "5872  2023-05-19 00:00:00-03:00  26.080000  26.180000  25.639999  25.770000   \n",
            "\n",
            "         Volume  Dividends  Stock Splits  \n",
            "5863   59352300        0.0           0.0  \n",
            "5864   33978200        0.0           0.0  \n",
            "5865   41500700        0.0           0.0  \n",
            "5866  136878100        0.0           0.0  \n",
            "5867  117237500        0.0           0.0  \n",
            "5868   81996700        0.0           0.0  \n",
            "5869  117782700        0.0           0.0  \n",
            "5870  107129200        0.0           0.0  \n",
            "5871   63010500        0.0           0.0  \n",
            "5872   69245500        0.0           0.0  \n"
          ]
        }
      ]
    },
    {
      "cell_type": "markdown",
      "source": [
        "3. Crie uma função que receba como entrada (parâmetros) um dataframe e o nome de uma de suas colunas e retorne a média e o desvio padrão dos valores contidos na coluna cujo nome foi recebido como parâmetro."
      ],
      "metadata": {
        "id": "2nidnpQqMgJp"
      }
    },
    {
      "cell_type": "code",
      "source": [
        "import pandas as pd\n",
        "\n",
        "def calcular_estatisticas(dataframe, nome_coluna):\n",
        "    # Obter a coluna do DataFrame\n",
        "    coluna = dataframe[nome_coluna]\n",
        "\n",
        "    # Calcular média e desvio padrão\n",
        "    media = coluna.mean()\n",
        "    desvio_padrao = coluna.std()\n",
        "\n",
        "    return media, desvio_padrao\n",
        "\n",
        "# Exemplo de uso da função\n",
        "dados_dataframe = carregar_csv(\"PETR4.SA_historico.csv\")  # Carregar DataFrame a partir do arquivo CSV\n",
        "\n",
        "# Calcular média e desvio padrão da coluna \"Close\"\n",
        "coluna_nome = \"Close\"  # Nome da coluna\n",
        "media, desvio_padrao = calcular_estatisticas(dados_dataframe, coluna_nome)\n",
        "\n",
        "# Imprimir média e desvio padrão\n",
        "print(f\"Média de {coluna_nome}: {media}\")\n",
        "print(f\"Desvio padrão de {coluna_nome}: {desvio_padrao}\")\n"
      ],
      "metadata": {
        "colab": {
          "base_uri": "https://localhost:8080/"
        },
        "id": "F181MZKFNRzg",
        "outputId": "ae5d93b5-0c24-46bd-aa18-3841a5b31b1b"
      },
      "execution_count": 4,
      "outputs": [
        {
          "output_type": "stream",
          "name": "stdout",
          "text": [
            "Média de Close: 7.35945814603357\n",
            "Desvio padrão de Close: 4.859053099844252\n"
          ]
        }
      ]
    },
    {
      "cell_type": "markdown",
      "source": [
        "4. Crie uma função que receba como entrada (parâmetros) um dataframe onde cada coluna possui uma série de números. A função deve receber também o nome de uma das colunas. A função deve retornar um dataframe resultante, a partir do dataframe de entrada, onde as linhas foram ordenadas em ordem crescente pelos números da coluna cujo nome foi recebido como parâmetro.\n"
      ],
      "metadata": {
        "id": "dFbryYyNNSWg"
      }
    },
    {
      "cell_type": "code",
      "source": [
        "import pandas as pd\n",
        "\n",
        "def ordenar_dataframe(dataframe, nome_coluna):\n",
        "    # Ordenar o DataFrame com base nos valores da coluna especificada\n",
        "    dataframe_ordenado = dataframe.sort_values(by=nome_coluna)\n",
        "\n",
        "    return dataframe_ordenado\n",
        "\n",
        "# Exemplo de uso da função\n",
        "dados_dataframe = carregar_csv(\"PETR4.SA_historico.csv\")  # Carregar DataFrame a partir do arquivo CSV\n",
        "\n",
        "# Ordenar o DataFrame pelo valor da coluna \"Close\"\n",
        "coluna_nome = \"Close\"  # Nome da coluna\n",
        "dados_ordenados = ordenar_dataframe(dados_dataframe, coluna_nome)\n",
        "\n",
        "# Imprimir DataFrame ordenado\n",
        "print(dados_ordenados)\n"
      ],
      "metadata": {
        "colab": {
          "base_uri": "https://localhost:8080/"
        },
        "id": "Rseka-WjNSyw",
        "outputId": "e564e290-e1d3-4e0e-da88-8ec6b1ef4518"
      },
      "execution_count": 5,
      "outputs": [
        {
          "output_type": "stream",
          "name": "stdout",
          "text": [
            "                           Date       Open       High        Low      Close  \\\n",
            "727   2002-10-16 00:00:00-03:00   1.247833   1.261658   1.230108   1.240743   \n",
            "725   2002-10-14 00:00:00-03:00   1.272648   1.290727   1.246061   1.265558   \n",
            "726   2002-10-15 00:00:00-03:00   1.281510   1.293208   1.246415   1.269102   \n",
            "714   2002-09-27 00:00:00-03:00   1.403812   1.417283   1.275838   1.301008   \n",
            "715   2002-09-30 00:00:00-03:00   1.389632   1.389632   1.219473   1.309870   \n",
            "...                         ...        ...        ...        ...        ...   \n",
            "5731  2022-10-24 00:00:00-03:00  28.423298  28.672488  26.655602  26.671177   \n",
            "5693  2022-08-29 00:00:00-03:00  26.126072  27.317517  26.048201  26.850283   \n",
            "5728  2022-10-19 00:00:00-03:00  26.577730  27.691301  26.492070  27.582277   \n",
            "5729  2022-10-20 00:00:00-03:00  28.111810  28.462235  27.854834  28.399939   \n",
            "5730  2022-10-21 00:00:00-03:00  28.384361  29.895078  28.337637  29.373337   \n",
            "\n",
            "         Volume  Dividends  Stock Splits  \n",
            "727    46768000        0.0           0.0  \n",
            "725    54288000        0.0           0.0  \n",
            "726    30758400        0.0           0.0  \n",
            "714   117568000        0.0           0.0  \n",
            "715    59484800        0.0           0.0  \n",
            "...         ...        ...           ...  \n",
            "5731  142110900        0.0           0.0  \n",
            "5693   73339500        0.0           0.0  \n",
            "5728  113700900        0.0           0.0  \n",
            "5729  114347400        0.0           0.0  \n",
            "5730  139601400        0.0           0.0  \n",
            "\n",
            "[5873 rows x 8 columns]\n"
          ]
        }
      ]
    },
    {
      "cell_type": "markdown",
      "source": [
        "5. Um professor do UniFOA gostaria de fazer um exercício de programação com seus alunos que consistia em fazer uma série de consultas a um banco de dados de exemplo. Apesar de ser muito bom em programação python, o professor não tinha um banco de dados de exemplo, nem possuía um conjunto de dados real que pudesse cadastrar em um banco de dados para disponibilizar o banco aos alunos.\n",
        "A partir disso, escreva uma função em python que receba um arquivo .csv, crie um banco de dados de nome padrão com ajuda do sqlite, crie uma tabela contendo os dados do dataframe mantendo os nomes das colunas, e salve o banco de dados num arquivo de saída."
      ],
      "metadata": {
        "id": "4WCnqWTHqrvG"
      }
    },
    {
      "cell_type": "code",
      "source": [
        "import sqlite3\n",
        "import pandas as pd\n",
        "\n",
        "#OBS: Lembrar de sempre excluir o banco de dados antes de rodar denovo\n",
        "\n",
        "def criar_banco_dados(dataframe, nome_tabela, nome_arquivo_saida):\n",
        "    # Criar conexão com o banco de dados\n",
        "    conexao = sqlite3.connect(nome_arquivo_saida)\n",
        "\n",
        "    # Criar tabela no banco de dados com base no DataFrame\n",
        "    dataframe.to_sql(nome_tabela, conexao, index=False)\n",
        "\n",
        "    # Fechar conexão com o banco de dados\n",
        "    conexao.close()\n",
        "\n",
        "    print(f\"Banco de dados '{nome_arquivo_saida}' criado com sucesso.\")\n",
        "\n",
        "# Exemplo de uso da função\n",
        "nome_arquivo_csv = \"PETR4.SA_historico.csv\"  # Arquivo CSV\n",
        "nome_tabela = \"dados_petr4\"  # Nome da tabela no banco de dados\n",
        "nome_arquivo_saida = \"banco_dados.db\"  # Arquivo de saída do banco de dados\n",
        "\n",
        "# Carregar DataFrame a partir do arquivo CSV\n",
        "dados_dataframe = carregar_csv(nome_arquivo_csv)\n",
        "\n",
        "# Criar banco de dados e salvar tabela\n",
        "criar_banco_dados(dados_dataframe, nome_tabela, nome_arquivo_saida)\n"
      ],
      "metadata": {
        "colab": {
          "base_uri": "https://localhost:8080/"
        },
        "id": "9_dCso4iq0ZR",
        "outputId": "0b52ab15-2f66-4a29-dd4a-4e91dcadff19"
      },
      "execution_count": 9,
      "outputs": [
        {
          "output_type": "stream",
          "name": "stdout",
          "text": [
            "Banco de dados 'banco_dados.db' criado com sucesso.\n"
          ]
        }
      ]
    }
  ]
}